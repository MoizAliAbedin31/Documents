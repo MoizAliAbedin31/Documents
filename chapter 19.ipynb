{
 "cells": [
  {
   "cell_type": "code",
   "execution_count": 32,
   "metadata": {},
   "outputs": [
    {
     "name": "stdout",
     "output_type": "stream",
     "text": [
      "['fan', 'moiz', 'hussain']\n",
      "['moiz', 'hussain', 'fan']\n",
      "['Table', 'pen']\n"
     ]
    }
   ],
   "source": [
    "my_list=['pen','fan','Table']\n",
    "task=['moiz','hussain']\n",
    "task.insert(0,my_list.pop(1))\n",
    "print(task)\n",
    "task.sort(reverse= True)\n",
    "print(task)\n",
    "my_list.reverse()\n",
    "print(my_list)\n"
   ]
  },
  {
   "cell_type": "code",
   "execution_count": 33,
   "metadata": {},
   "outputs": [
    {
     "name": "stdout",
     "output_type": "stream",
     "text": [
      "['moiz', 'hussain', 'fan']\n",
      "['Table', 'pen']\n",
      "['Table', 'pen']\n"
     ]
    }
   ],
   "source": [
    "#if we make a new sorted variable so that we can get our older list otherwise that sorted list can't change.\n",
    "# #likewise\n",
    "new_task=task\n",
    "print(new_task)\n",
    "my_newlist=sorted(my_list)\n",
    "print(my_newlist)\n",
    "print(my_list)"
   ]
  },
  {
   "cell_type": "code",
   "execution_count": null,
   "metadata": {},
   "outputs": [],
   "source": [
    "#list into a list\n",
    "[[2,3,4],[4,5,3]]\n",
    "#tuples in list\n",
    "[('x','y'),[6,5,4]]\n",
    "#dictionery in list\n",
    "[{'x','y'},{'v\",\"m\"}]"
   ]
  },
  {
   "cell_type": "code",
   "execution_count": 28,
   "metadata": {},
   "outputs": [
    {
     "data": {
      "text/plain": [
       "[(4, 5), (4, 3), (5, 4), (5, 3), (6, 5), (6, 4), (6, 3)]"
      ]
     },
     "execution_count": 28,
     "metadata": {},
     "output_type": "execute_result"
    }
   ],
   "source": [
    "#if i I need only combination there is not require a condition\n",
    "[(x,y) for x in [4,5,6] for y in [5,4,3] if x!=y]\n"
   ]
  },
  {
   "cell_type": "code",
   "execution_count": 38,
   "metadata": {},
   "outputs": [
    {
     "name": "stdout",
     "output_type": "stream",
     "text": [
      "3\n"
     ]
    }
   ],
   "source": [
    "#re tuple\n",
    "x=(1,2,3)\n",
    "a,b,c=x\n",
    "print(c)"
   ]
  },
  {
   "cell_type": "code",
   "execution_count": 41,
   "metadata": {},
   "outputs": [
    {
     "data": {
      "text/plain": [
       "[('Karachi', 'is clean')]"
      ]
     },
     "execution_count": 41,
     "metadata": {},
     "output_type": "execute_result"
    }
   ],
   "source": [
    "#sets\n",
    "cities = [\"Lahore\", \"Islamabad\", \"Karachi\"]\n",
    "[(x, \"is clean\") for x in cities if x == \"Karachi\"]"
   ]
  },
  {
   "cell_type": "markdown",
   "metadata": {},
   "source": [
    "# New class (5) work\n"
   ]
  },
  {
   "cell_type": "code",
   "execution_count": 2,
   "metadata": {},
   "outputs": [
    {
     "name": "stdout",
     "output_type": "stream",
     "text": [
      "HEY MANSOORI\n"
     ]
    }
   ],
   "source": [
    "dic={'moiz': 'HEY MANSOORI','mansoori':'HEY MOIZ'}\n",
    "print(dic['moiz'])"
   ]
  },
  {
   "cell_type": "code",
   "execution_count": 8,
   "metadata": {},
   "outputs": [
    {
     "name": "stdout",
     "output_type": "stream",
     "text": [
      "{'name': 'mansoori', 'age': 53}\n",
      "{'name': 'moiz', 'age': 53}\n",
      "{'name': 'moiz', 'age': 53, 'city': 'USA'}\n",
      "{'name': 'moiz', 'city': 'USA'}\n"
     ]
    }
   ],
   "source": [
    "#how to insert item in dictionary\n",
    "dic={'name':'mansoori','age':53}\n",
    "print(dic)\n",
    "dic['name']='moiz'\n",
    "print(dic)\n",
    "dic['city']= \"USA\"\n",
    "print(dic)\n",
    "del(dic['age'])\n",
    "print(dic)\n"
   ]
  },
  {
   "cell_type": "code",
   "execution_count": 10,
   "metadata": {},
   "outputs": [
    {
     "data": {
      "text/plain": [
       "{2: 4, 3: 9, 4: 16, 5: 25, 6: 36}"
      ]
     },
     "execution_count": 10,
     "metadata": {},
     "output_type": "execute_result"
    }
   ],
   "source": [
    "{x:x**2 for x in (2,3,4,5,6)}"
   ]
  },
  {
   "cell_type": "code",
   "execution_count": 12,
   "metadata": {},
   "outputs": [
    {
     "ename": "SyntaxError",
     "evalue": "invalid syntax (<ipython-input-12-02256b365c7a>, line 1)",
     "output_type": "error",
     "traceback": [
      "\u001b[1;36m  File \u001b[1;32m\"<ipython-input-12-02256b365c7a>\"\u001b[1;36m, line \u001b[1;32m1\u001b[0m\n\u001b[1;33m    dict{[2,(2,3,4,5),(3,[3,4,6,8])]}\u001b[0m\n\u001b[1;37m        ^\u001b[0m\n\u001b[1;31mSyntaxError\u001b[0m\u001b[1;31m:\u001b[0m invalid syntax\n"
     ]
    }
   ],
   "source": [
    "dict{[2,(2,3,4,5),(3,[3,4,6,8])]}"
   ]
  },
  {
   "cell_type": "code",
   "execution_count": 18,
   "metadata": {},
   "outputs": [
    {
     "data": {
      "text/plain": [
       "(2, 3, 4, 5, ['MOIZ', 'HUSSAIN'])"
      ]
     },
     "execution_count": 18,
     "metadata": {},
     "output_type": "execute_result"
    }
   ],
   "source": [
    "#tupple iw immutable than how can we replace nasir in that tupple\n",
    "atupple=(2,3,4,5,['NASIR','HUSSAIN'])\n",
    "atupple[4][0]=\"MOIZ\"\n",
    "atupple"
   ]
  },
  {
   "cell_type": "code",
   "execution_count": 23,
   "metadata": {},
   "outputs": [
    {
     "ename": "SyntaxError",
     "evalue": "invalid syntax (<ipython-input-23-f6d720ef4108>, line 1)",
     "output_type": "error",
     "traceback": [
      "\u001b[1;36m  File \u001b[1;32m\"<ipython-input-23-f6d720ef4108>\"\u001b[1;36m, line \u001b[1;32m1\u001b[0m\n\u001b[1;33m    for x=(i,j) in enumerate(['d','e','r','u']) :\u001b[0m\n\u001b[1;37m         ^\u001b[0m\n\u001b[1;31mSyntaxError\u001b[0m\u001b[1;31m:\u001b[0m invalid syntax\n"
     ]
    }
   ],
   "source": [
    "for (i,j) in enumerate(['d','e','r','u']) :\n",
    "print(i,j.)"
   ]
  },
  {
   "cell_type": "code",
   "execution_count": null,
   "metadata": {},
   "outputs": [],
   "source": []
  },
  {
   "cell_type": "code",
   "execution_count": null,
   "metadata": {},
   "outputs": [],
   "source": [
    " \n"
   ]
  }
 ],
 "metadata": {
  "kernelspec": {
   "display_name": "Python 3",
   "language": "python",
   "name": "python3"
  },
  "language_info": {
   "codemirror_mode": {
    "name": "ipython",
    "version": 3
   },
   "file_extension": ".py",
   "mimetype": "text/x-python",
   "name": "python",
   "nbconvert_exporter": "python",
   "pygments_lexer": "ipython3",
   "version": "3.6.5"
  }
 },
 "nbformat": 4,
 "nbformat_minor": 2
}
