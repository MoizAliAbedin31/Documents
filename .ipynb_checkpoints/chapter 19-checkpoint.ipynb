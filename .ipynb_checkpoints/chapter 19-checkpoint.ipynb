{
 "cells": [
  {
   "cell_type": "code",
   "execution_count": 32,
   "metadata": {},
   "outputs": [
    {
     "name": "stdout",
     "output_type": "stream",
     "text": [
      "['fan', 'moiz', 'hussain']\n",
      "['moiz', 'hussain', 'fan']\n",
      "['Table', 'pen']\n"
     ]
    }
   ],
   "source": [
    "my_list=['pen','fan','Table']\n",
    "task=['moiz','hussain']\n",
    "task.insert(0,my_list.pop(1))\n",
    "print(task)\n",
    "task.sort(reverse= True)\n",
    "print(task)\n",
    "my_list.reverse()\n",
    "print(my_list)\n"
   ]
  },
  {
   "cell_type": "code",
   "execution_count": 33,
   "metadata": {},
   "outputs": [
    {
     "name": "stdout",
     "output_type": "stream",
     "text": [
      "['moiz', 'hussain', 'fan']\n",
      "['Table', 'pen']\n",
      "['Table', 'pen']\n"
     ]
    }
   ],
   "source": [
    "#if we make a new sorted variable so that we can get our older list otherwise that sorted list can't change.\n",
    "# #likewise\n",
    "new_task=task\n",
    "print(new_task)\n",
    "my_newlist=sorted(my_list)\n",
    "print(my_newlist)\n",
    "print(my_list)"
   ]
  },
  {
   "cell_type": "code",
   "execution_count": null,
   "metadata": {},
   "outputs": [],
   "source": [
    "#list into a list\n",
    "[[2,3,4],[4,5,3]]\n",
    "#tuples in list\n",
    "[('x','y'),[6,5,4]]\n",
    "#dictionery in list\n",
    "[{'x','y'},{'v\",\"m\"}]"
   ]
  },
  {
   "cell_type": "code",
   "execution_count": 28,
   "metadata": {},
   "outputs": [
    {
     "data": {
      "text/plain": [
       "[(4, 5), (4, 3), (5, 4), (5, 3), (6, 5), (6, 4), (6, 3)]"
      ]
     },
     "execution_count": 28,
     "metadata": {},
     "output_type": "execute_result"
    }
   ],
   "source": [
    "#if i I need only combination there is not require a condition\n",
    "[(x,y) for x in [4,5,6] for y in [5,4,3] if x!=y]\n"
   ]
  },
  {
   "cell_type": "code",
   "execution_count": 38,
   "metadata": {},
   "outputs": [
    {
     "name": "stdout",
     "output_type": "stream",
     "text": [
      "3\n"
     ]
    }
   ],
   "source": [
    "#re tuple\n",
    "x=(1,2,3)\n",
    "a,b,c=x\n",
    "print(c)"
   ]
  },
  {
   "cell_type": "code",
   "execution_count": 41,
   "metadata": {},
   "outputs": [
    {
     "data": {
      "text/plain": [
       "[('Karachi', 'is clean')]"
      ]
     },
     "execution_count": 41,
     "metadata": {},
     "output_type": "execute_result"
    }
   ],
   "source": [
    "#sets\n",
    "cities = [\"Lahore\", \"Islamabad\", \"Karachi\"]\n",
    "[(x, \"is clean\") for x in cities if x == \"Karachi\"]"
   ]
  },
  {
   "cell_type": "markdown",
   "metadata": {},
   "source": [
    "# "
   ]
  }
 ],
 "metadata": {
  "kernelspec": {
   "display_name": "Python 3",
   "language": "python",
   "name": "python3"
  },
  "language_info": {
   "codemirror_mode": {
    "name": "ipython",
    "version": 3
   },
   "file_extension": ".py",
   "mimetype": "text/x-python",
   "name": "python",
   "nbconvert_exporter": "python",
   "pygments_lexer": "ipython3",
   "version": "3.6.5"
  }
 },
 "nbformat": 4,
 "nbformat_minor": 2
}
